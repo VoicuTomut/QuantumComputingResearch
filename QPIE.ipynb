{
 "cells": [
  {
   "cell_type": "code",
   "execution_count": 2,
   "metadata": {},
   "outputs": [
    {
     "name": "stderr",
     "output_type": "stream",
     "text": [
      "C:\\Users\\Sorin\\Anaconda3\\lib\\site-packages\\qiskit\\providers\\ibmq\\ibmqfactory.py:181: UserWarning: Credentials are already in use. The existing account in the session will be replaced.\n",
      "  warnings.warn('Credentials are already in use. The existing '\n"
     ]
    },
    {
     "data": {
      "text/plain": [
       "<AccountProvider for IBMQ(hub='ibm-q', group='open', project='main')>"
      ]
     },
     "execution_count": 2,
     "metadata": {},
     "output_type": "execute_result"
    }
   ],
   "source": [
    "import math\n",
    "import numpy as np\n",
    "from qiskit import *\n",
    "from qiskit.tools.visualization import plot_histogram, plot_state_city\n",
    "from qiskit.providers.aer import QasmSimulator, StatevectorSimulator, UnitarySimulator\n",
    "from qiskit import IBMQ\n",
    "import matplotlib\n",
    "%matplotlib inline\n",
    "\n",
    "IBMQ.load_account()"
   ]
  },
  {
   "cell_type": "code",
   "execution_count": 3,
   "metadata": {},
   "outputs": [],
   "source": [
    "def loadQuantumImage(path):\n",
    "    from PIL import Image\n",
    "    image= Image.open(path)\n",
    "    (width, height) = image.size\n",
    "    pixels = image.load()\n",
    "\n",
    "    ssum = 0\n",
    "    for i in range(width):\n",
    "        for j in range(height):\n",
    "            ssum += pixels[i,j]**2\n",
    "\n",
    "    m = math.floor(math.log(height, 2))\n",
    "    n = math.floor(math.log(width, 2))\n",
    "    stateVector = np.zeros(2**(m+n))\n",
    "    for i in range(width):\n",
    "        for j in range(height):\n",
    "            stateVector[i*height + j] = pixels[i,j]/math.sqrt(ssum)\n",
    "            \n",
    "    return stateVector, m, n"
   ]
  },
  {
   "cell_type": "code",
   "execution_count": 4,
   "metadata": {},
   "outputs": [],
   "source": [
    "def exportQuantumImage(counts, shots, height, width):\n",
    "    from PIL import Image\n",
    "\n",
    "    r = math.floor(math.log(width, 2))\n",
    "    im= Image.new(\"L\", (width, height))\n",
    "    pixels = im.load()\n",
    "\n",
    "    maxAmplitude = 256\n",
    "    medAmplitude = maxAmplitude/2\n",
    "    med = shots/(height * width)\n",
    "    for key in counts:\n",
    "        i = int(key[0:r], 2)\n",
    "        j = int(key[r:], 2)\n",
    "        val = round((((counts[key] - med)/med)*medAmplitude) + medAmplitude)\n",
    "        pixels[i,j] = (val)\n",
    "        \n",
    "    return im"
   ]
  },
  {
   "cell_type": "code",
   "execution_count": 5,
   "metadata": {},
   "outputs": [],
   "source": [
    "def Increment(increment, quantumRegister, circuit):\n",
    "    from qiskit.aqua.components.qfts import Standard as qft\n",
    "    from qiskit.aqua.components.iqfts import Standard as iqft\n",
    "    \n",
    "    n = len(quantumRegister)\n",
    "    \n",
    "    qft(n).construct_circuit(qubits=quantumRegister,circuit=circuit)\n",
    "    \n",
    "    for j in range(n):\n",
    "        circuit.u1((np.pi*increment)/(2**(n-1-j)), quantumRegister[j])\n",
    "        \n",
    "    iqft(n).construct_circuit(qubits=quantumRegister,circuit=circuit)\n",
    "    "
   ]
  },
  {
   "cell_type": "code",
   "execution_count": 6,
   "metadata": {},
   "outputs": [],
   "source": [
    "def Rotate(rowReg, columnReg, circuit):\n",
    "    circuit.x(rowReg)\n",
    "    circuit.x(columnReg)"
   ]
  },
  {
   "cell_type": "code",
   "execution_count": 7,
   "metadata": {},
   "outputs": [],
   "source": [
    "def Transpose(rowReg, columnReg, circuit):\n",
    "    m = rowReg.size\n",
    "    n = columnReg.size\n",
    "    \n",
    "    if (n != m):\n",
    "        raise \"Can only transpose square images\" \n",
    "    \n",
    "    for i in range(n):\n",
    "        circuit.swap(rowReg[i], columnReg[i])"
   ]
  },
  {
   "cell_type": "code",
   "execution_count": null,
   "metadata": {},
   "outputs": [],
   "source": [
    "stateVector, m, n = loadQuantumImage('lena64.png')\n",
    "\n",
    "state = [complex(x) for x in stateVector]\n",
    "indexes = range(m+n+1)\n",
    "\n",
    "columnReg = QuantumRegister(n)\n",
    "rowReg = QuantumRegister(m)\n",
    "ancilaReg = QuantumRegister(1)\n",
    "creg = ClassicalRegister(n+m+1)\n",
    "\n",
    "circ = QuantumCircuit(ancilaReg, rowReg, columnReg, creg)\n",
    "circ.initialize(state, indexes[1:])\n",
    "\n",
    "Transpose(rowReg, columnReg, circ)\n",
    "\n",
    "circ.h(ancilaReg[0])\n",
    "Increment(1, circ.qubits, circ)\n",
    "circ.h(ancilaReg[0])\n",
    "\n",
    "Transpose(rowReg, columnReg, circ)\n",
    "\n",
    "circ.measure(indexes, indexes)\n",
    "\n",
    "provider = IBMQ.get_provider(group='open')\n",
    "localSimulator = Aer.get_backend('qasm_simulator')\n",
    "backend = provider.get_backend('ibmq_qasm_simulator')\n",
    "\n",
    "shots = 2**(m+n)*20 # 8190\n",
    "result = execute(circ, localSimulator, shots=shots).result()\n",
    "counts = result.get_counts(circ)\n",
    "counts, m, n\n",
    "\n",
    "counts2 = {}\n",
    "for key in counts:\n",
    "#    counts2[key[1:]] = counts[key]\n",
    "     if key[m+n] == '1':\n",
    "         counts2[key[:-1]] = counts[key]\n",
    "\n",
    "######\n",
    "columnReg = QuantumRegister(n)\n",
    "rowReg = QuantumRegister(m)\n",
    "ancilaReg = QuantumRegister(1)\n",
    "creg = ClassicalRegister(n+m+1)\n",
    "\n",
    "circ = QuantumCircuit(ancilaReg, rowReg, columnReg, creg)\n",
    "circ.initialize(state, indexes[1:])\n",
    "\n",
    "circ.h(ancilaReg[0])\n",
    "Increment(1, circ.qubits, circ)\n",
    "circ.h(ancilaReg[0])\n",
    "\n",
    "circ.measure(indexes, indexes)\n",
    "\n",
    "result = execute(circ, localSimulator, shots=shots).result()\n",
    "counts = result.get_counts(circ)\n",
    "\n",
    "for key in counts:\n",
    "#    counts2[key[1:]] = counts[key]\n",
    "     if key[m+n] == '1':\n",
    "         counts2[key[:-1]] = counts[key]\n",
    "######\n",
    "            \n",
    "exportedImg = exportQuantumImage(counts2, shots, 2**m, 2**n)\n",
    "exportedImg"
   ]
  },
  {
   "cell_type": "code",
   "execution_count": 56,
   "metadata": {},
   "outputs": [],
   "source": [
    "exportedImg.show()"
   ]
  }
 ],
 "metadata": {
  "kernelspec": {
   "display_name": "Python 3",
   "language": "python",
   "name": "python3"
  },
  "language_info": {
   "codemirror_mode": {
    "name": "ipython",
    "version": 3
   },
   "file_extension": ".py",
   "mimetype": "text/x-python",
   "name": "python",
   "nbconvert_exporter": "python",
   "pygments_lexer": "ipython3",
   "version": "3.7.4"
  }
 },
 "nbformat": 4,
 "nbformat_minor": 2
}
