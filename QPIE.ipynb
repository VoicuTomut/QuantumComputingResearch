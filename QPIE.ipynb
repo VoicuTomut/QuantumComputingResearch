{
 "cells": [
  {
   "cell_type": "code",
   "execution_count": 1,
   "metadata": {},
   "outputs": [
    {
     "data": {
      "text/plain": [
       "<AccountProvider for IBMQ(hub='ibm-q', group='open', project='main')>"
      ]
     },
     "execution_count": 1,
     "metadata": {},
     "output_type": "execute_result"
    }
   ],
   "source": [
    "import math\n",
    "import numpy as np\n",
    "from qiskit import *\n",
    "from qiskit.tools.visualization import plot_histogram, plot_state_city\n",
    "from qiskit.providers.aer import QasmSimulator, StatevectorSimulator, UnitarySimulator\n",
    "from qiskit import IBMQ\n",
    "import matplotlib\n",
    "%matplotlib inline\n",
    "\n",
    "IBMQ.load_account()"
   ]
  },
  {
   "cell_type": "code",
   "execution_count": 120,
   "metadata": {},
   "outputs": [],
   "source": [
    "def loadQuantumImage(path):\n",
    "    from PIL import Image\n",
    "    image= Image.open(path)\n",
    "    (width, height) = image.size\n",
    "    pixels = image.load()\n",
    "\n",
    "    ssum = 0\n",
    "    for i in range(width):\n",
    "        for j in range(height):\n",
    "            ssum += pixels[i,j]**2\n",
    "\n",
    "    m = math.floor(math.log(height, 2))\n",
    "    n = math.floor(math.log(width, 2))\n",
    "    stateVector = np.zeros(2**(m+n))\n",
    "    for i in range(width):\n",
    "        for j in range(height):\n",
    "            stateVector[i*height + j] = pixels[i,j]/math.sqrt(ssum)\n",
    "            \n",
    "    return stateVector, m, n"
   ]
  },
  {
   "cell_type": "code",
   "execution_count": 121,
   "metadata": {},
   "outputs": [],
   "source": [
    "def exportQuantumImage(counts, shots, height, width):\n",
    "    from PIL import Image\n",
    "\n",
    "    r = math.floor(math.log(width, 2))\n",
    "    im= Image.new(\"L\", (width, height))\n",
    "    pixels = im.load()\n",
    "\n",
    "    maxAmplitude = 256\n",
    "    medAmplitude = maxAmplitude/2\n",
    "    med = shots/(height * width)\n",
    "    for key in counts:\n",
    "        i = int(key[0:r], 2)\n",
    "        j = int(key[r:], 2)\n",
    "        val = round((((counts[key] - med)/med)*medAmplitude) + medAmplitude)\n",
    "        pixels[i,j] = (val)\n",
    "        \n",
    "    return im"
   ]
  },
  {
   "cell_type": "code",
   "execution_count": 316,
   "metadata": {},
   "outputs": [],
   "source": [
    "def Increment(increment, quantumRegister, circuit):\n",
    "    from qiskit.aqua.components.qfts import Standard as qft\n",
    "    from qiskit.aqua.components.iqfts import Standard as iqft\n",
    "    \n",
    "    n = quantumRegister.size\n",
    "    \n",
    "    iqft(n).construct_circuit(qubits=quantumRegister,circuit=circuit)\n",
    "    \n",
    "    for j in range(n):\n",
    "        circuit.u1((np.pi*increment)/(2**(n-1-j)), quantumRegister[j])\n",
    "        \n",
    "    iqft(n).construct_circuit(qubits=quantumRegister,circuit=circuit)\n",
    "    "
   ]
  },
  {
   "cell_type": "code",
   "execution_count": 228,
   "metadata": {},
   "outputs": [
    {
     "data": {
      "image/png": "[encoded data removed]",
      "text/plain": [
       "<PIL.Image.Image image mode=L size=32x32 at 0x19CEBC13508>"
      ]
     },
     "execution_count": 228,
     "metadata": {},
     "output_type": "execute_result"
    }
   ],
   "source": [
    "stateVector, m, n = loadQuantumImage('boxes.bmp')\n",
    "\n",
    "circ = QuantumCircuit(m+n, m+n)\n",
    "indexes = range(m+n)\n",
    "\n",
    "state = [complex(x) for x in stateVector]\n",
    "circ.initialize(state, indexes)\n",
    "\n",
    "# for a in range(2**n):\n",
    "#     for idx in indexes[:-1]:\n",
    "#         circ.swap(idx, idx+1)\n",
    "\n",
    "# for idx in indexes[:0:-1]:\n",
    "#     circ.swap(idx, idx-1)\n",
    "\n",
    "# circ.x(indexes)\n",
    "circ.h(0)\n",
    "#circ.x(indexes)\n",
    "circ.measure(indexes, indexes)\n",
    "\n",
    "\n",
    "provider = IBMQ.get_provider(group='open')\n",
    "localSimulator = Aer.get_backend('qasm_simulator')\n",
    "backend = provider.get_backend('ibmq_qasm_simulator')\n",
    "\n",
    "#2**(m+n)*10\n",
    "shots = 2**(m+n)*10 # 8190\n",
    "result = execute(circ, localSimulator, shots=shots).result()\n",
    "counts = result.get_counts(circ)\n",
    "counts\n",
    "\n",
    "counts2 = {}\n",
    "for key in counts:\n",
    "    if key[m+n-1] == '1':\n",
    "        counts2[key] = counts[key]\n",
    "\n",
    "\n",
    "exportedImg = exportQuantumImage(counts, shots, 2**m, 2**n)\n",
    "exportedImg"
   ]
  },
  {
   "cell_type": "code",
   "execution_count": 218,
   "metadata": {},
   "outputs": [],
   "source": [
    "exportedImg.show()"
   ]
  },
  {
   "cell_type": "code",
   "execution_count": 216,
   "metadata": {},
   "outputs": [
    {
     "name": "stdout",
     "output_type": "stream",
     "text": [
      "2\n",
      "1\n"
     ]
    }
   ],
   "source": [
    "for idx in indexes[:0:-1]:\n",
    "    print(idx)"
   ]
  },
  {
   "cell_type": "code",
   "execution_count": 318,
   "metadata": {},
   "outputs": [
    {
     "data": {
      "text/plain": [
       "{'1000': 1024}"
      ]
     },
     "execution_count": 318,
     "metadata": {},
     "output_type": "execute_result"
    }
   ],
   "source": [
    "from qiskit.aqua.components.qfts import Standard as qft\n",
    "from qiskit.aqua.components.iqfts import Standard as iqft\n",
    "\n",
    "n2 = 4\n",
    "qreg = QuantumRegister(n2)\n",
    "creg = ClassicalRegister(n2)\n",
    "circ2 = QuantumCircuit(qreg, creg)\n",
    "indexes2 = range(n2)\n",
    "increment = 7\n",
    "\n",
    "circ2.x(0)\n",
    "circ2.barrier()\n",
    "\n",
    "Increment(increment, circ2.qubits, circ2)\n",
    "\n",
    "# sqft = qft(n2)\n",
    "# siqft = iqft(n2)\n",
    "# sqft.construct_circuit(qubits=circ2.qubits,circuit=circ2)\n",
    "\n",
    "# # for j in range(n2):\n",
    "# #     #R1Frac(increment, (d - 1) - j, (target!)[j]);\n",
    "# #     circ2.u1((np.pi*increment)/(2**(n2-1-j)), circ2.qubits[j])\n",
    "\n",
    "# siqft.construct_circuit(qubits=circ2.qubits,circuit=circ2)\n",
    "\n",
    "circ2.measure(indexes2, indexes2)\n",
    "\n",
    "localSimulator2 = Aer.get_backend('qasm_simulator')\n",
    "\n",
    "shots2 = 1024\n",
    "result2 = execute(circ2, localSimulator2, shots=shots2).result()\n",
    "counts2 = result2.get_counts(circ2)\n",
    "counts2"
   ]
  }
 ],
 "metadata": {
  "kernelspec": {
   "display_name": "Python 3",
   "language": "python",
   "name": "python3"
  },
  "language_info": {
   "codemirror_mode": {
    "name": "ipython",
    "version": 3
   },
   "file_extension": ".py",
   "mimetype": "text/x-python",
   "name": "python",
   "nbconvert_exporter": "python",
   "pygments_lexer": "ipython3",
   "version": "3.7.4"
  }
 },
 "nbformat": 4,
 "nbformat_minor": 2
}
