{
 "cells": [
  {
   "cell_type": "code",
   "execution_count": 1,
   "metadata": {},
   "outputs": [
    {
     "data": {
      "text/plain": [
       "<AccountProvider for IBMQ(hub='ibm-q', group='open', project='main')>"
      ]
     },
     "execution_count": 1,
     "metadata": {},
     "output_type": "execute_result"
    }
   ],
   "source": [
    "import math\n",
    "import numpy as np\n",
    "from qiskit import *\n",
    "from qiskit.tools.visualization import plot_histogram, plot_state_city\n",
    "from qiskit.providers.aer import QasmSimulator, StatevectorSimulator, UnitarySimulator\n",
    "from qiskit import IBMQ\n",
    "import matplotlib\n",
    "%matplotlib inline\n",
    "\n",
    "IBMQ.load_account()"
   ]
  },
  {
   "cell_type": "code",
   "execution_count": 2,
   "metadata": {},
   "outputs": [],
   "source": [
    "def loadQuantumImage(path):\n",
    "    from PIL import Image\n",
    "    image= Image.open(path)\n",
    "    (width, height) = image.size\n",
    "    pixels = image.load()\n",
    "\n",
    "    ssum = 0\n",
    "    for i in range(height):\n",
    "        for j in range(width):\n",
    "            ssum += pixels[i,j]**2\n",
    "\n",
    "    m = math.floor(math.log(height, 2))\n",
    "    n = math.floor(math.log(width, 2))\n",
    "    stateVector = np.zeros(2**(m+n))\n",
    "    for i in range(height):\n",
    "        for j in range(width):\n",
    "            stateVector[i*width + j] = pixels[i,j]/math.sqrt(ssum)\n",
    "            \n",
    "    return stateVector, m, n"
   ]
  },
  {
   "cell_type": "code",
   "execution_count": 3,
   "metadata": {},
   "outputs": [],
   "source": [
    "def exportQuantumImage(counts, shots, height, width):\n",
    "    from PIL import Image\n",
    "\n",
    "    r = math.floor(math.log(height, 2))\n",
    "    im= Image.new(\"L\", (width, height))\n",
    "    pixels = im.load()\n",
    "\n",
    "    maxAmplitude = 256\n",
    "    medAmplitude = maxAmplitude/2\n",
    "    med = shots/(height * width)\n",
    "    for key in counts:\n",
    "        i = int(key[0:r], 2)\n",
    "        j = int(key[r:], 2)\n",
    "        val = round((((counts[key] - med)/med)*medAmplitude) + medAmplitude)\n",
    "        pixels[i,j] = (val)\n",
    "        \n",
    "    return im"
   ]
  },
  {
   "cell_type": "code",
   "execution_count": 7,
   "metadata": {},
   "outputs": [
    {
     "data": {
      "image/png": "[encoded data removed]",
      "text/plain": [
       "<PIL.Image.Image image mode=L size=64x64 at 0x19CEBC1DD48>"
      ]
     },
     "execution_count": 7,
     "metadata": {},
     "output_type": "execute_result"
    }
   ],
   "source": [
    "stateVector, m, n = loadQuantumImage('Lena64.png')\n",
    "\n",
    "circ = QuantumCircuit(m+n, m+n)\n",
    "indexes = range(m+n)\n",
    "\n",
    "state = [complex(x) for x in stateVector]\n",
    "circ.initialize(state, indexes)\n",
    "circ.measure(indexes, indexes)\n",
    "\n",
    "provider = IBMQ.get_provider(group='open')\n",
    "localSimulator = Aer.get_backend('qasm_simulator')\n",
    "backend = provider.get_backend('ibmq_qasm_simulator')\n",
    "\n",
    "#2**(m+n)*10\n",
    "shots = 2**(m+n)*100 # 8190\n",
    "result = execute(circ, localSimulator, shots=shots).result()\n",
    "counts = result.get_counts(circ)\n",
    "\n",
    "exportedImg = exportQuantumImage(counts, shots, 2**m, 2**n)\n",
    "exportedImg"
   ]
  },
  {
   "cell_type": "code",
   "execution_count": null,
   "metadata": {},
   "outputs": [],
   "source": []
  }
 ],
 "metadata": {
  "kernelspec": {
   "display_name": "Python 3",
   "language": "python",
   "name": "python3"
  },
  "language_info": {
   "codemirror_mode": {
    "name": "ipython",
    "version": 3
   },
   "file_extension": ".py",
   "mimetype": "text/x-python",
   "name": "python",
   "nbconvert_exporter": "python",
   "pygments_lexer": "ipython3",
   "version": "3.7.4"
  }
 },
 "nbformat": 4,
 "nbformat_minor": 2
}
